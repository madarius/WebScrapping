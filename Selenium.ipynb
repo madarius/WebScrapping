{
 "cells": [
  {
   "cell_type": "code",
   "execution_count": 7,
   "metadata": {},
   "outputs": [
    {
     "name": "stdout",
     "output_type": "stream",
     "text": [
      "Requirement already satisfied: selenium in ./opt/anaconda3/lib/python3.8/site-packages (3.141.0)\n",
      "Requirement already satisfied: urllib3 in ./opt/anaconda3/lib/python3.8/site-packages (from selenium) (1.25.11)\n",
      "Collecting webdriver_manager\n",
      "  Downloading webdriver_manager-3.3.0-py2.py3-none-any.whl (16 kB)\n",
      "Collecting crayons\n",
      "  Downloading crayons-0.4.0-py2.py3-none-any.whl (4.6 kB)\n",
      "Requirement already satisfied: requests in ./opt/anaconda3/lib/python3.8/site-packages (from webdriver_manager) (2.24.0)\n",
      "Collecting configparser\n",
      "  Downloading configparser-5.0.1-py3-none-any.whl (22 kB)\n",
      "Requirement already satisfied: colorama in ./opt/anaconda3/lib/python3.8/site-packages (from crayons->webdriver_manager) (0.4.4)\n",
      "Requirement already satisfied: chardet<4,>=3.0.2 in ./opt/anaconda3/lib/python3.8/site-packages (from requests->webdriver_manager) (3.0.4)\n",
      "Requirement already satisfied: urllib3!=1.25.0,!=1.25.1,<1.26,>=1.21.1 in ./opt/anaconda3/lib/python3.8/site-packages (from requests->webdriver_manager) (1.25.11)\n",
      "Requirement already satisfied: idna<3,>=2.5 in ./opt/anaconda3/lib/python3.8/site-packages (from requests->webdriver_manager) (2.10)\n",
      "Requirement already satisfied: certifi>=2017.4.17 in ./opt/anaconda3/lib/python3.8/site-packages (from requests->webdriver_manager) (2020.6.20)\n",
      "Installing collected packages: crayons, configparser, webdriver-manager\n",
      "Successfully installed configparser-5.0.1 crayons-0.4.0 webdriver-manager-3.3.0\n"
     ]
    }
   ],
   "source": [
    "!pip install selenium\n",
    "!pip install webdriver_manager"
   ]
  },
  {
   "cell_type": "code",
   "execution_count": 1,
   "metadata": {},
   "outputs": [],
   "source": [
    "from selenium import webdriver\n",
    "from webdriver_manager.chrome import ChromeDriverManager\n",
    "from selenium.webdriver.common.keys import Keys\n",
    "from time import sleep\n",
    "import random"
   ]
  },
  {
   "cell_type": "code",
   "execution_count": 2,
   "metadata": {},
   "outputs": [
    {
     "name": "stderr",
     "output_type": "stream",
     "text": [
      "[WDM] - ====== WebDriver manager ======\n"
     ]
    },
    {
     "name": "stdout",
     "output_type": "stream",
     "text": [
      "\n",
      "\n"
     ]
    },
    {
     "name": "stderr",
     "output_type": "stream",
     "text": [
      "[WDM] - Current google-chrome version is 87.0.4280\n",
      "[WDM] - Get LATEST driver version for 87.0.4280\n",
      "[WDM] - Driver [/Users/dariyamamayeva/.wdm/drivers/chromedriver/mac64/87.0.4280.88/chromedriver] found in cache\n"
     ]
    }
   ],
   "source": [
    "driver = webdriver.Chrome(ChromeDriverManager().install())"
   ]
  },
  {
   "cell_type": "code",
   "execution_count": 3,
   "metadata": {},
   "outputs": [],
   "source": [
    "driver.get('https://krisha.kz/prodazha/kvartiry/karaganda-kazybek-bi/')"
   ]
  },
  {
   "cell_type": "code",
   "execution_count": 16,
   "metadata": {},
   "outputs": [],
   "source": [
    "homes=[]\n",
    "def obtain_links(link):\n",
    "    driver.get(link)\n",
    "    results = driver.find_elements_by_xpath('.//div[@class=\"a-card__header-left\"]')\n",
    "    for result in results:\n",
    "        a = result.find_element_by_tag_name('a')\n",
    "        print(a.text)\n",
    "        print(a.get_attribute('href'))\n",
    "        homes.append(a.get_attribute('href'))"
   ]
  },
  {
   "cell_type": "code",
   "execution_count": 17,
   "metadata": {},
   "outputs": [
    {
     "name": "stdout",
     "output_type": "stream",
     "text": [
      "2-комнатная квартира, 46 м², 1/10 этаж\n",
      "https://krisha.kz/a/show/663374289\n",
      "3-комнатная квартира, 220 м², 1/3 этаж\n",
      "https://krisha.kz/a/show/663368034\n",
      "2-комнатная квартира, 52 м², 1/9 этаж\n",
      "https://krisha.kz/a/show/663768393\n",
      "2-комнатная квартира, 61 м², 4/10 этаж\n",
      "https://krisha.kz/a/show/664635048\n",
      "2-комнатная квартира, 45 м², 1/5 этаж\n",
      "https://krisha.kz/a/show/664519593\n",
      "2-комнатная квартира, 48 м², 2/2 этаж\n",
      "https://krisha.kz/a/show/664215239\n",
      "2-комнатная квартира, 44 м², 5/5 этаж\n",
      "https://krisha.kz/a/show/664384745\n",
      "2-комнатная квартира, 64 м², 14/16 этаж\n",
      "https://krisha.kz/a/show/664389546\n",
      "2-комнатная квартира, 43 м², 3/5 этаж\n",
      "https://krisha.kz/a/show/663316536\n",
      "3-комнатная квартира, 87.2 м², 5/5 этаж\n",
      "https://krisha.kz/a/show/664602590\n",
      "4-комнатная квартира, 86.3 м², 3/3 этаж\n",
      "https://krisha.kz/a/show/664486474\n",
      "2-комнатная квартира, 45.5 м², 9/9 этаж\n",
      "https://krisha.kz/a/show/664317397\n",
      "2-комнатная квартира, 52.4 м², 1/9 этаж\n",
      "https://krisha.kz/a/show/664488779\n",
      "1-комнатная квартира, 30.1 м², 9/9 этаж\n",
      "https://krisha.kz/a/show/664660025\n",
      "1-комнатная квартира, 31 м², 3/5 этаж\n",
      "https://krisha.kz/a/show/664657647\n",
      "2-комнатная квартира, 41 м², 4/5 этаж\n",
      "https://krisha.kz/a/show/664482154\n",
      "2-комнатная квартира, 44 м², 4/5 этаж\n",
      "https://krisha.kz/a/show/664199213\n",
      "4-комнатная квартира, 77.1 м², 2/5 этаж\n",
      "https://krisha.kz/a/show/661675873\n",
      "3-комнатная квартира, 57.4 м², 5/5 этаж\n",
      "https://krisha.kz/a/show/664630190\n",
      "3-комнатная квартира, 93 м², 1/3 этаж\n",
      "https://krisha.kz/a/show/58305700\n",
      "3-комнатная квартира, 62 м², 5/5 этаж\n",
      "https://krisha.kz/a/show/664352129\n",
      "3-комнатная квартира, 62 м², 9/10 этаж\n",
      "https://krisha.kz/a/show/663705644\n",
      "2-комнатная квартира, 44.4 м², 1/5 этаж\n",
      "https://krisha.kz/a/show/664465440\n",
      "4-комнатная квартира, 150 м², 2/3 этаж\n",
      "https://krisha.kz/a/show/664466649\n",
      "2-комнатная квартира, 53 м², 7/9 этаж\n",
      "https://krisha.kz/a/show/46980059\n",
      "4-комнатная квартира, 111.7 м²\n",
      "https://krisha.kz/a/show/663392339\n",
      "4-комнатная квартира, 108.3 м², 5/18 этаж\n",
      "https://krisha.kz/a/show/664551121\n",
      "3-комнатная квартира, 64 м², 3/9 этаж\n",
      "https://krisha.kz/a/show/664478921\n",
      "2-комнатная квартира, 44 м², 2/5 этаж\n",
      "https://krisha.kz/a/show/663404385\n",
      "4-комнатная квартира, 126 м², 2/16 этаж\n",
      "https://krisha.kz/a/show/661914953\n",
      "4-комнатная квартира, 68 м², 8/9 этаж\n",
      "https://krisha.kz/a/show/29155787\n",
      "3-комнатная квартира, 58 м², 1/2 этаж\n",
      "https://krisha.kz/a/show/664618979\n",
      "3-комнатная квартира, 60 м², 2/5 этаж\n",
      "https://krisha.kz/a/show/664449746\n",
      "1-комнатная квартира, 30.4 м², 1/4 этаж\n",
      "https://krisha.kz/a/show/663993279\n",
      "2-комнатная квартира, 70 м², 4/5 этаж\n",
      "https://krisha.kz/a/show/664613646\n",
      "3-комнатная квартира, 70 м², 3/3 этаж\n",
      "https://krisha.kz/a/show/663644465\n",
      "2-комнатная квартира, 60 м², 12/17 этаж\n",
      "https://krisha.kz/a/show/664431134\n",
      "2-комнатная квартира, 52.1 м², 5/9 этаж\n",
      "https://krisha.kz/a/show/663689284\n",
      "1-комнатная квартира, 35.6 м², 5/5 этаж\n",
      "https://krisha.kz/a/show/58038582\n",
      "3-комнатная квартира, 100 м², 7/9 этаж\n",
      "https://krisha.kz/a/show/664347458\n",
      "2-комнатная квартира, 76 м², 7/9 этаж\n",
      "https://krisha.kz/a/show/664484369\n",
      "1-комнатная квартира, 42.6 м², 1/5 этаж\n",
      "https://krisha.kz/a/show/660168341\n",
      "2-комнатная квартира, 65 м², 1/5 этаж\n",
      "https://krisha.kz/a/show/660836187\n",
      "3-комнатная квартира, 86 м², 5/5 этаж\n",
      "https://krisha.kz/a/show/662261289\n",
      "4-комнатная квартира, 109 м², 5/5 этаж\n",
      "https://krisha.kz/a/show/55735394\n",
      "1-комнатная квартира, 42.6 м², 3/5 этаж\n",
      "https://krisha.kz/a/show/664465218\n",
      "2-комнатная квартира, 65 м², 3/5 этаж\n",
      "https://krisha.kz/a/show/664413309\n",
      "3-комнатная квартира, 86 м², 3/5 этаж\n",
      "https://krisha.kz/a/show/664465320\n",
      "4-комнатная квартира, 109 м², 3/5 этаж\n",
      "https://krisha.kz/a/show/664465632\n",
      "3-комнатная квартира, 104 м², 1/2 этаж\n",
      "https://krisha.kz/a/show/664560795\n",
      "2-комнатная квартира, 47 м², 4/6 этаж\n",
      "https://krisha.kz/a/show/664626509\n",
      "2-комнатная квартира, 48.4 м², 1/9 этаж\n",
      "https://krisha.kz/a/show/664634325\n",
      "3-комнатная квартира, 57 м², 4/5 этаж\n",
      "https://krisha.kz/a/show/50014014\n",
      "1-комнатная квартира, 30.6 м², 5/5 этаж\n",
      "https://krisha.kz/a/show/660851290\n",
      "3-комнатная квартира, 66 м², 2/5 этаж\n",
      "https://krisha.kz/a/show/664143569\n",
      "4-комнатная квартира, 115 м², 1/10 этаж\n",
      "https://krisha.kz/a/show/29201580\n",
      "1-комнатная квартира, 43.6 м², 22/25 этаж\n",
      "https://krisha.kz/a/show/664638390\n",
      "3-комнатная квартира, 107 м², 10/12 этаж\n",
      "https://krisha.kz/a/show/664082572\n",
      "1-комнатная квартира, 30.7 м², 2/5 этаж\n",
      "https://krisha.kz/a/show/664042588\n",
      "2-комнатная квартира, 43.4 м², 2/5 этаж\n",
      "https://krisha.kz/a/show/660440028\n",
      "2-комнатная квартира, 44.9 м², 4/5 этаж\n",
      "https://krisha.kz/a/show/663017097\n",
      "3-комнатная квартира, 72 м², 3/3 этаж\n",
      "https://krisha.kz/a/show/662934026\n",
      "2-комнатная квартира, 47 м², 4/5 этаж\n",
      "https://krisha.kz/a/show/664260256\n",
      "4-комнатная квартира, 125 м², 1/4 этаж\n",
      "https://krisha.kz/a/show/47918637\n",
      "3-комнатная квартира, 102 м², 4/4 этаж\n",
      "https://krisha.kz/a/show/53454325\n",
      "1-комнатная квартира, 32 м², 2/4 этаж\n",
      "https://krisha.kz/a/show/664627590\n",
      "3-комнатная квартира, 81 м², 7/10 этаж\n",
      "https://krisha.kz/a/show/57382569\n",
      "3-комнатная квартира, 68 м², 9/9 этаж\n",
      "https://krisha.kz/a/show/664485170\n",
      "1-комнатная квартира, 31 м², 1/5 этаж\n",
      "https://krisha.kz/a/show/664642082\n",
      "3-комнатная квартира, 64 м², 5/9 этаж\n",
      "https://krisha.kz/a/show/664480839\n",
      "2-комнатная квартира, 50 м², 3/9 этаж\n",
      "https://krisha.kz/a/show/664222783\n",
      "2-комнатная квартира, 43.7 м², 2/5 этаж\n",
      "https://krisha.kz/a/show/55534250\n",
      "3-комнатная квартира, 86 м², 1/2 этаж\n",
      "https://krisha.kz/a/show/664572535\n",
      "2-комнатная квартира, 45.6 м², 2/2 этаж\n",
      "https://krisha.kz/a/show/47254633\n",
      "1-комнатная квартира, 42.43 м², 7/10 этаж\n",
      "https://krisha.kz/a/show/663119391\n",
      "3-комнатная квартира, 76 м², 5/5 этаж\n",
      "https://krisha.kz/a/show/664503151\n",
      "2-комнатная квартира, 46 м², 1/10 этаж\n",
      "https://krisha.kz/a/show/663374289\n",
      "3-комнатная квартира, 64 м², 7/9 этаж\n",
      "https://krisha.kz/a/show/664478910\n",
      "3-комнатная квартира, 85 м², 9/9 этаж\n",
      "https://krisha.kz/a/show/664215411\n",
      "2-комнатная квартира, 53 м², 4/5 этаж\n",
      "https://krisha.kz/a/show/56027957\n",
      "3-комнатная квартира, 103.3 м², 7/9 этаж\n",
      "https://krisha.kz/a/show/662758790\n",
      "4-комнатная квартира, 87 м², 9/9 этаж\n",
      "https://krisha.kz/a/show/662867229\n",
      "3-комнатная квартира, 67.9 м², 4/9 этаж\n",
      "https://krisha.kz/a/show/664498759\n",
      "2-комнатная квартира, 46.7 м², 2/5 этаж\n",
      "https://krisha.kz/a/show/664339345\n",
      "3-комнатная квартира, 55.9 м², 1/3 этаж\n",
      "https://krisha.kz/a/show/663446853\n",
      "2-комнатная квартира, 52 м², 8/9 этаж\n",
      "https://krisha.kz/a/show/662631195\n",
      "3-комнатная квартира, 86.6 м², 3/10 этаж\n",
      "https://krisha.kz/a/show/661292854\n",
      "1-комнатная квартира, 30 м², 5/5 этаж\n",
      "https://krisha.kz/a/show/664510336\n",
      "3-комнатная квартира, 87.3 м²\n",
      "https://krisha.kz/a/show/663391244\n",
      "2-комнатная квартира, 65 м²\n",
      "https://krisha.kz/a/show/663388052\n",
      "1-комнатная квартира, 42.6 м²\n",
      "https://krisha.kz/a/show/663396000\n",
      "3-комнатная квартира, 80 м², 1/3 этаж\n",
      "https://krisha.kz/a/show/664222030\n",
      "2-комнатная квартира, 44.9 м², 4/5 этаж\n",
      "https://krisha.kz/a/show/664479139\n",
      "3-комнатная квартира, 68 м², 6/9 этаж\n",
      "https://krisha.kz/a/show/664536783\n",
      "2-комнатная квартира, 69.93 м², 3/10 этаж\n",
      "https://krisha.kz/a/show/662398581\n",
      "1-комнатная квартира, 51.16 м², 2/10 этаж\n",
      "https://krisha.kz/a/show/662399550\n",
      "3-комнатная квартира, 85.67 м², 4/10 этаж\n",
      "https://krisha.kz/a/show/662398825\n",
      "2-комнатная квартира, 59.28 м², 5/10 этаж\n",
      "https://krisha.kz/a/show/662400396\n",
      "2-комнатная квартира, 70.41 м², 5/10 этаж\n",
      "https://krisha.kz/a/show/662398041\n",
      "2-комнатная квартира, 43 м², 2/5 этаж\n",
      "https://krisha.kz/a/show/664618678\n",
      "3-комнатная квартира, 64 м², 9/9 этаж\n",
      "https://krisha.kz/a/show/661539808\n",
      "1-комнатная квартира, 59 м², 1/11 этаж\n",
      "https://krisha.kz/a/show/49569529\n",
      "3-комнатная квартира, 180 м², 11/12 этаж\n",
      "https://krisha.kz/a/show/664514478\n"
     ]
    }
   ],
   "source": [
    "obtain_links('https://krisha.kz/prodazha/kvartiry/karaganda-kazybek-bi/')\n",
    "for i in range (2,6):\n",
    "    link='https://krisha.kz/prodazha/kvartiry/karaganda-kazybek-bi/?page='+str(i)\n",
    "    obtain_links(link)"
   ]
  },
  {
   "cell_type": "code",
   "execution_count": 18,
   "metadata": {},
   "outputs": [
    {
     "data": {
      "text/plain": [
       "103"
      ]
     },
     "execution_count": 18,
     "metadata": {},
     "output_type": "execute_result"
    }
   ],
   "source": [
    "len(homes)"
   ]
  },
  {
   "cell_type": "code",
   "execution_count": 82,
   "metadata": {},
   "outputs": [],
   "source": [
    "classname=[]\n",
    "results = driver.find_elements_by_xpath('.//div[@class=\"offer__advert-info\"]')\n",
    "for result in results:\n",
    "    classname=result.find_elements_by_class_name('offer__advert-short-info')"
   ]
  },
  {
   "cell_type": "code",
   "execution_count": 92,
   "metadata": {},
   "outputs": [
    {
     "name": "stdout",
     "output_type": "stream",
     "text": [
      "Караганда, Казыбек би р-н\n",
      "показать на карте\n",
      "панельный, 2008 г.п.\n",
      "1 из 10\n",
      "46 м²\n"
     ]
    }
   ],
   "source": [
    "for i in classname:\n",
    "    print(i.text)\n",
    "#classname[0].text[:-18]"
   ]
  },
  {
   "cell_type": "code",
   "execution_count": 72,
   "metadata": {},
   "outputs": [
    {
     "name": "stdout",
     "output_type": "stream",
     "text": [
      "ИП \"Чистая жизнь \"\n",
      "+7 705 254 9032\n"
     ]
    }
   ],
   "source": [
    "driver.get('https://krisha.kz/a/show/663374289')\n",
    "names = driver.find_elements_by_xpath('.//div[@class=\"offer__sidebar-sticky\"]')\n",
    "contacts = driver.find_element_by_xpath('.//span[@id=\"tm-telephone-body\"]')\n",
    "contacts.click()\n",
    "phones=driver.find_elements_by_xpath('.//div[@class=\"offer__contacts\"]')\n",
    "for name in names:    \n",
    "    print(name.find_element_by_class_name('owners__name').text)\n",
    "for phone in phones:\n",
    "    print(phone.find_element_by_class_name('offer__contacts-phones').text)"
   ]
  },
  {
   "cell_type": "code",
   "execution_count": 102,
   "metadata": {},
   "outputs": [],
   "source": [
    "import csv\n",
    "filename = 'houses.csv'\n",
    "with open(filename, 'w') as f:\n",
    "    w = csv.writer(f)\n",
    "    w.writerow(['Name', 'Price', 'City', 'House', 'Floor', 'Area', 'Owner', 'Phone'])"
   ]
  },
  {
   "cell_type": "code",
   "execution_count": 119,
   "metadata": {},
   "outputs": [],
   "source": [
    "def write_info(link):\n",
    "    driver.get(link)\n",
    "    h1=driver.find_element_by_tag_name('h1').text\n",
    "    price=driver.find_element_by_class_name('offer__price').text[:-2]\n",
    "    results = driver.find_elements_by_xpath('.//div[@class=\"offer__advert-info\"]')\n",
    "    for result in results:\n",
    "        classname=result.find_elements_by_class_name('offer__advert-short-info')\n",
    "    city=classname[0].text[:-18]\n",
    "    house=classname[1].text\n",
    "    floor=classname[2].text\n",
    "    area=classname[3].text\n",
    "    names = driver.find_elements_by_xpath('.//div[@class=\"offer__sidebar-sticky\"]')\n",
    "    contacts = driver.find_element_by_xpath('.//span[@id=\"tm-telephone-body\"]')\n",
    "    contacts.click()\n",
    "    phones=driver.find_elements_by_xpath('.//div[@class=\"offer__contacts\"]')\n",
    "    for name in names:    \n",
    "        owner=name.find_element_by_class_name('owners__name').text\n",
    "    for phone in phones:\n",
    "        phone=phone.find_element_by_class_name('offer__contacts-phones').text\n",
    "        print(phone)\n",
    "    with open(filename, 'a',encoding='utf-8') as f:\n",
    "        w = csv.writer(f)\n",
    "        w.writerow([h1, price, city, house, floor, area, owner, phone])\n",
    "    "
   ]
  },
  {
   "cell_type": "code",
   "execution_count": 120,
   "metadata": {},
   "outputs": [
    {
     "name": "stdout",
     "output_type": "stream",
     "text": [
      "2-комнатная квартира, 44.4 м², 1/5 этаж, проспект Нурсултана Назарбаева 78\n"
     ]
    }
   ],
   "source": [
    "driver.get('https://krisha.kz/a/show/664465440')\n",
    "name=driver.find_element_by_tag_name('h1').text\n",
    "print(name)"
   ]
  },
  {
   "cell_type": "code",
   "execution_count": 121,
   "metadata": {},
   "outputs": [
    {
     "name": "stdout",
     "output_type": "stream",
     "text": [
      "+7 778 298 8386\n"
     ]
    }
   ],
   "source": [
    "write_info('https://krisha.kz/a/show/664465440')"
   ]
  },
  {
   "cell_type": "code",
   "execution_count": 126,
   "metadata": {},
   "outputs": [],
   "source": [
    "import pandas as pd\n",
    "df=pd.read_csv('houses.csv')"
   ]
  },
  {
   "cell_type": "code",
   "execution_count": 125,
   "metadata": {},
   "outputs": [
    {
     "name": "stdout",
     "output_type": "stream",
     "text": [
      "\n",
      "\n",
      "\n",
      "\n",
      "\n",
      "\n",
      "\n",
      "\n",
      "\n",
      "+7 777 575 3654\n",
      "\n",
      "\n",
      "+7 775 841 9999\n",
      "\n",
      "\n",
      "\n",
      "\n",
      "\n",
      "\n",
      "\n",
      "\n",
      "\n",
      "\n",
      "+7 706 407 7066\n",
      "\n",
      "+7 747 321 3333\n",
      "+7 747 121 3333\n",
      "+7 771 379 8356\n",
      "+7 702 221 0712\n",
      "+7 771 208 4900\n",
      "\n",
      "+7 701 726 4321\n",
      "\n",
      "\n",
      "\n",
      "\n",
      "\n",
      "\n",
      "\n",
      "\n",
      "\n",
      "\n",
      "\n",
      "+7 702 264 1199\n",
      "+7 702 264 1188\n",
      "+7 702 264 1199\n",
      "+7 702 264 1188\n",
      "\n",
      "+7 702 264 1199\n",
      "+7 702 264 1188\n",
      "\n",
      "\n",
      "\n",
      "\n",
      "\n",
      "\n",
      "+7 702 106 3034\n",
      "\n",
      "\n",
      "\n",
      "\n",
      "\n",
      "\n",
      "+7 771 527 6397\n",
      "\n",
      "\n",
      "\n",
      "\n",
      "\n",
      "\n",
      "\n",
      "\n",
      "\n",
      "\n",
      "\n",
      "\n",
      "\n",
      "+7 705 628 9111\n",
      "+7 701 191 3672\n",
      "+7 701 522 8719\n",
      "+7 701 327 6169\n",
      "+7 777 589 0909\n",
      "+7 701 216 1212\n",
      "+7 708 363 7260\n",
      "+7 747 632 8276\n",
      "\n",
      "+7 775 149 1104\n",
      "+7 701 483 4453\n",
      "+7 701 322 0102\n",
      "\n",
      "+7 701 483 4453\n",
      "+7 708 363 7260\n",
      "+7 747 632 8276\n",
      "+7 778 308 9782\n",
      "+7 701 641 2874\n",
      "+7 775 905 5550\n",
      "\n",
      "\n",
      "\n",
      "\n",
      "+7 747 321 3333\n",
      "+7 747 121 3333\n",
      "\n",
      "\n",
      "\n",
      "\n",
      "+7 777 589 0909\n",
      "+7 776 113 4765\n",
      "+7 701 216 1212\n",
      "\n",
      "\n",
      "\n",
      "\n",
      "\n",
      "+7 778 542 4010\n",
      "+7 777 039 7788\n",
      "\n"
     ]
    }
   ],
   "source": [
    "for home in homes:\n",
    "    write_info(home)"
   ]
  },
  {
   "cell_type": "code",
   "execution_count": 127,
   "metadata": {},
   "outputs": [
    {
     "ename": "TypeError",
     "evalue": "'tuple' object is not callable",
     "output_type": "error",
     "traceback": [
      "\u001b[0;31m---------------------------------------------------------------------------\u001b[0m",
      "\u001b[0;31mTypeError\u001b[0m                                 Traceback (most recent call last)",
      "\u001b[0;32m<ipython-input-127-0e566b70f572>\u001b[0m in \u001b[0;36m<module>\u001b[0;34m\u001b[0m\n\u001b[0;32m----> 1\u001b[0;31m \u001b[0mdf\u001b[0m\u001b[0;34m.\u001b[0m\u001b[0mshape\u001b[0m\u001b[0;34m(\u001b[0m\u001b[0;34m)\u001b[0m\u001b[0;34m\u001b[0m\u001b[0;34m\u001b[0m\u001b[0m\n\u001b[0m",
      "\u001b[0;31mTypeError\u001b[0m: 'tuple' object is not callable"
     ]
    }
   ],
   "source": [
    "df.shape()"
   ]
  },
  {
   "cell_type": "code",
   "execution_count": null,
   "metadata": {},
   "outputs": [],
   "source": []
  }
 ],
 "metadata": {
  "kernelspec": {
   "display_name": "Python 3",
   "language": "python",
   "name": "python3"
  },
  "language_info": {
   "codemirror_mode": {
    "name": "ipython",
    "version": 3
   },
   "file_extension": ".py",
   "mimetype": "text/x-python",
   "name": "python",
   "nbconvert_exporter": "python",
   "pygments_lexer": "ipython3",
   "version": "3.8.5"
  }
 },
 "nbformat": 4,
 "nbformat_minor": 4
}
