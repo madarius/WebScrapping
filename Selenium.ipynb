{
 "cells": [
  {
   "cell_type": "code",
   "execution_count": 7,
   "metadata": {},
   "outputs": [
    {
     "name": "stdout",
     "output_type": "stream",
     "text": [
      "Requirement already satisfied: selenium in ./opt/anaconda3/lib/python3.8/site-packages (3.141.0)\n",
      "Requirement already satisfied: urllib3 in ./opt/anaconda3/lib/python3.8/site-packages (from selenium) (1.25.11)\n",
      "Collecting webdriver_manager\n",
      "  Downloading webdriver_manager-3.3.0-py2.py3-none-any.whl (16 kB)\n",
      "Collecting crayons\n",
      "  Downloading crayons-0.4.0-py2.py3-none-any.whl (4.6 kB)\n",
      "Requirement already satisfied: requests in ./opt/anaconda3/lib/python3.8/site-packages (from webdriver_manager) (2.24.0)\n",
      "Collecting configparser\n",
      "  Downloading configparser-5.0.1-py3-none-any.whl (22 kB)\n",
      "Requirement already satisfied: colorama in ./opt/anaconda3/lib/python3.8/site-packages (from crayons->webdriver_manager) (0.4.4)\n",
      "Requirement already satisfied: chardet<4,>=3.0.2 in ./opt/anaconda3/lib/python3.8/site-packages (from requests->webdriver_manager) (3.0.4)\n",
      "Requirement already satisfied: urllib3!=1.25.0,!=1.25.1,<1.26,>=1.21.1 in ./opt/anaconda3/lib/python3.8/site-packages (from requests->webdriver_manager) (1.25.11)\n",
      "Requirement already satisfied: idna<3,>=2.5 in ./opt/anaconda3/lib/python3.8/site-packages (from requests->webdriver_manager) (2.10)\n",
      "Requirement already satisfied: certifi>=2017.4.17 in ./opt/anaconda3/lib/python3.8/site-packages (from requests->webdriver_manager) (2020.6.20)\n",
      "Installing collected packages: crayons, configparser, webdriver-manager\n",
      "Successfully installed configparser-5.0.1 crayons-0.4.0 webdriver-manager-3.3.0\n"
     ]
    }
   ],
   "source": [
    "!pip install selenium\n",
    "!pip install webdriver_manager"
   ]
  },
  {
   "cell_type": "code",
   "execution_count": 1,
   "metadata": {},
   "outputs": [],
   "source": [
    "from selenium import webdriver\n",
    "from webdriver_manager.chrome import ChromeDriverManager\n",
    "from selenium.webdriver.common.keys import Keys\n",
    "from time import sleep\n",
    "import random"
   ]
  },
  {
   "cell_type": "code",
   "execution_count": 2,
   "metadata": {},
   "outputs": [
    {
     "name": "stderr",
     "output_type": "stream",
     "text": [
      "[WDM] - ====== WebDriver manager ======\n"
     ]
    },
    {
     "name": "stdout",
     "output_type": "stream",
     "text": [
      "\n",
      "\n"
     ]
    },
    {
     "name": "stderr",
     "output_type": "stream",
     "text": [
      "[WDM] - Current google-chrome version is 87.0.4280\n",
      "[WDM] - Get LATEST driver version for 87.0.4280\n",
      "[WDM] - Driver [/Users/dariyamamayeva/.wdm/drivers/chromedriver/mac64/87.0.4280.88/chromedriver] found in cache\n"
     ]
    }
   ],
   "source": [
    "driver = webdriver.Chrome(ChromeDriverManager().install())"
   ]
  },
  {
   "cell_type": "code",
   "execution_count": 4,
   "metadata": {},
   "outputs": [],
   "source": [
    "driver.get('https://krisha.kz/prodazha/kvartiry/karaganda-kazybek-bi/')"
   ]
  },
  {
   "cell_type": "code",
   "execution_count": 5,
   "metadata": {},
   "outputs": [],
   "source": [
    "homes=[]\n",
    "def obtain_links(link):\n",
    "    driver.get(link)\n",
    "    results = driver.find_elements_by_xpath('.//div[@class=\"a-card__header-left\"]')\n",
    "    for result in results:\n",
    "        a = result.find_element_by_tag_name('a')\n",
    "        #print(a.text)\n",
    "        #print(a.get_attribute('href'))\n",
    "        homes.append(a.get_attribute('href'))"
   ]
  },
  {
   "cell_type": "code",
   "execution_count": 6,
   "metadata": {},
   "outputs": [],
   "source": [
    "obtain_links('https://krisha.kz/prodazha/kvartiry/karaganda-kazybek-bi/')\n",
    "for i in range (2,6):\n",
    "    link='https://krisha.kz/prodazha/kvartiry/karaganda-kazybek-bi/?page='+str(i)\n",
    "    obtain_links(link)"
   ]
  },
  {
   "cell_type": "code",
   "execution_count": 7,
   "metadata": {},
   "outputs": [
    {
     "data": {
      "text/plain": [
       "103"
      ]
     },
     "execution_count": 7,
     "metadata": {},
     "output_type": "execute_result"
    }
   ],
   "source": [
    "len(homes)"
   ]
  },
  {
   "cell_type": "code",
   "execution_count": 82,
   "metadata": {},
   "outputs": [],
   "source": [
    "classname=[]\n",
    "results = driver.find_elements_by_xpath('.//div[@class=\"offer__advert-info\"]')\n",
    "for result in results:\n",
    "    classname=result.find_elements_by_class_name('offer__advert-short-info')"
   ]
  },
  {
   "cell_type": "code",
   "execution_count": 92,
   "metadata": {},
   "outputs": [
    {
     "name": "stdout",
     "output_type": "stream",
     "text": [
      "Караганда, Казыбек би р-н\n",
      "показать на карте\n",
      "панельный, 2008 г.п.\n",
      "1 из 10\n",
      "46 м²\n"
     ]
    }
   ],
   "source": [
    "for i in classname:\n",
    "    print(i.text)\n",
    "#classname[0].text[:-18]"
   ]
  },
  {
   "cell_type": "code",
   "execution_count": 8,
   "metadata": {},
   "outputs": [],
   "source": [
    "def phone(link):\n",
    "    phone1=\"\"\n",
    "    driver.get(link)\n",
    "    sleep(1.5)\n",
    "    contacts = driver.find_element_by_xpath('.//span[@id=\"tm-telephone-body\"]')\n",
    "    contacts.click()\n",
    "    sleep(2)\n",
    "    phones=driver.find_element_by_xpath('.//div[@class=\"offer__contacts\"]')\n",
    "    phone=str(phones.find_element_by_class_name('offer__contacts-phones').text.replace(' ',''))\n",
    "    return phone"
   ]
  },
  {
   "cell_type": "code",
   "execution_count": 10,
   "metadata": {},
   "outputs": [
    {
     "name": "stdout",
     "output_type": "stream",
     "text": [
      "+77052549032\n",
      "+77015387594\n",
      "+77773047191\n",
      "+77013423962\n",
      "+77018000555\n",
      "+77784854650\n",
      "+77785424010\n",
      "+77770397788\n",
      "+77029855762\n",
      "+77025455535\n",
      "+77029332488\n",
      "+77029855762\n"
     ]
    }
   ],
   "source": [
    "#print(phone(homes[40]))\n",
    "#homes[40]\n",
    "for i in range (0,10):\n",
    "    print(phone(homes[i]))"
   ]
  },
  {
   "cell_type": "code",
   "execution_count": 9,
   "metadata": {},
   "outputs": [],
   "source": [
    "import csv\n",
    "filename = 'house_info.csv'\n",
    "with open(filename, 'w') as f:\n",
    "    w = csv.writer(f)\n",
    "    w.writerow(['Name', 'Price', 'City', 'House', 'Floor', 'Area', 'Owner', 'Phone'])"
   ]
  },
  {
   "cell_type": "code",
   "execution_count": 10,
   "metadata": {},
   "outputs": [],
   "source": [
    "def write_info(link):\n",
    "    driver.get(link)\n",
    "    h1=driver.find_element_by_tag_name('h1').text\n",
    "    price=driver.find_element_by_class_name('offer__price').text[:-2]\n",
    "    results = driver.find_elements_by_xpath('.//div[@class=\"offer__advert-info\"]')\n",
    "    for result in results:\n",
    "        classname=result.find_elements_by_class_name('offer__advert-short-info')\n",
    "    city=classname[0].text[:-18]\n",
    "    house=classname[1].text\n",
    "    floor=classname[2].text\n",
    "    area=classname[3].text\n",
    "    names = driver.find_elements_by_xpath('.//div[@class=\"offer__sidebar-sticky\"]')\n",
    "    for name in names:    \n",
    "        owner=name.find_element_by_class_name('owners__name').text\n",
    "    with open(filename, 'a',encoding='utf-8') as f:\n",
    "        w = csv.writer(f)\n",
    "        w.writerow([h1, price, city, house, floor, area, owner, phone(link)])"
   ]
  },
  {
   "cell_type": "code",
   "execution_count": 120,
   "metadata": {},
   "outputs": [
    {
     "name": "stdout",
     "output_type": "stream",
     "text": [
      "2-комнатная квартира, 44.4 м², 1/5 этаж, проспект Нурсултана Назарбаева 78\n"
     ]
    }
   ],
   "source": [
    "driver.get('https://krisha.kz/a/show/664465440')\n",
    "name=driver.find_element_by_tag_name('h1').text\n",
    "print(name)"
   ]
  },
  {
   "cell_type": "raw",
   "metadata": {},
   "source": [
    "for i in range (0,103):\n",
    "    write_info(homes[i])"
   ]
  },
  {
   "cell_type": "code",
   "execution_count": 139,
   "metadata": {},
   "outputs": [],
   "source": [
    "import pandas as pd\n",
    "df=pd.read_csv('/Users/dariyamamayeva/house_info.csv')"
   ]
  },
  {
   "cell_type": "code",
   "execution_count": 86,
   "metadata": {
    "scrolled": true
   },
   "outputs": [
    {
     "data": {
      "text/html": [
       "<div>\n",
       "<style scoped>\n",
       "    .dataframe tbody tr th:only-of-type {\n",
       "        vertical-align: middle;\n",
       "    }\n",
       "\n",
       "    .dataframe tbody tr th {\n",
       "        vertical-align: top;\n",
       "    }\n",
       "\n",
       "    .dataframe thead th {\n",
       "        text-align: right;\n",
       "    }\n",
       "</style>\n",
       "<table border=\"1\" class=\"dataframe\">\n",
       "  <thead>\n",
       "    <tr style=\"text-align: right;\">\n",
       "      <th></th>\n",
       "      <th>Name</th>\n",
       "      <th>Price</th>\n",
       "      <th>City</th>\n",
       "      <th>House</th>\n",
       "      <th>Floor</th>\n",
       "      <th>Area</th>\n",
       "      <th>Owner</th>\n",
       "      <th>Phone</th>\n",
       "    </tr>\n",
       "  </thead>\n",
       "  <tbody>\n",
       "    <tr>\n",
       "      <th>0</th>\n",
       "      <td>2-комнатная квартира, 46 м², 1/10 этаж, Ермеко...</td>\n",
       "      <td>14 000 000</td>\n",
       "      <td>Караганда, Казыбек би р-н</td>\n",
       "      <td>панельный, 2008 г.п.</td>\n",
       "      <td>1 из 10</td>\n",
       "      <td>46 м²</td>\n",
       "      <td>ИП \"Чистая жизнь \"</td>\n",
       "      <td>+77052549032</td>\n",
       "    </tr>\n",
       "    <tr>\n",
       "      <th>1</th>\n",
       "      <td>3-комнатная квартира, 220 м², 1/3 этаж, Мкр Ал...</td>\n",
       "      <td>55 000 000</td>\n",
       "      <td>Караганда, Казыбек би р-н</td>\n",
       "      <td>кирпичный, 2016 г.п.</td>\n",
       "      <td>1 из 3</td>\n",
       "      <td>220 м², жилая — 96 м², кухня — 13 м²</td>\n",
       "      <td>Arman</td>\n",
       "      <td>+77015387594</td>\n",
       "    </tr>\n",
       "    <tr>\n",
       "      <th>2</th>\n",
       "      <td>2-комнатная квартира, 52 м², 1/9 этаж, Универс...</td>\n",
       "      <td>13 300 000</td>\n",
       "      <td>Караганда, Казыбек би р-н</td>\n",
       "      <td>панельный, 1984 г.п.</td>\n",
       "      <td>1 из 9</td>\n",
       "      <td>52 м², кухня — 8 м²</td>\n",
       "      <td>Золотой квадрат</td>\n",
       "      <td>+77773047191</td>\n",
       "    </tr>\n",
       "    <tr>\n",
       "      <th>3</th>\n",
       "      <td>3-комнатная квартира, 88 м², 7/9 этаж, мкр Юго...</td>\n",
       "      <td>42 800 000</td>\n",
       "      <td>Караганда, Казыбек би р-н</td>\n",
       "      <td>кирпичный, 2018 г.п.</td>\n",
       "      <td>7 из 9</td>\n",
       "      <td>88 м²</td>\n",
       "      <td>Хозяин недвижимости</td>\n",
       "      <td>+77013423962</td>\n",
       "    </tr>\n",
       "    <tr>\n",
       "      <th>4</th>\n",
       "      <td>2-комнатная квартира, 100 м², 5/12 этаж, Мкр. ...</td>\n",
       "      <td>37 000 000</td>\n",
       "      <td>Караганда, Казыбек би р-н</td>\n",
       "      <td>кирпичный, 2017 г.п.</td>\n",
       "      <td>5 из 12</td>\n",
       "      <td>100 м²</td>\n",
       "      <td>Хозяин недвижимости</td>\n",
       "      <td>+77018000555</td>\n",
       "    </tr>\n",
       "  </tbody>\n",
       "</table>\n",
       "</div>"
      ],
      "text/plain": [
       "                                                Name        Price  \\\n",
       "0  2-комнатная квартира, 46 м², 1/10 этаж, Ермеко...  14 000 000    \n",
       "1  3-комнатная квартира, 220 м², 1/3 этаж, Мкр Ал...  55 000 000    \n",
       "2  2-комнатная квартира, 52 м², 1/9 этаж, Универс...  13 300 000    \n",
       "3  3-комнатная квартира, 88 м², 7/9 этаж, мкр Юго...  42 800 000    \n",
       "4  2-комнатная квартира, 100 м², 5/12 этаж, Мкр. ...  37 000 000    \n",
       "\n",
       "                        City                 House    Floor  \\\n",
       "0  Караганда, Казыбек би р-н  панельный, 2008 г.п.  1 из 10   \n",
       "1  Караганда, Казыбек би р-н  кирпичный, 2016 г.п.   1 из 3   \n",
       "2  Караганда, Казыбек би р-н  панельный, 1984 г.п.   1 из 9   \n",
       "3  Караганда, Казыбек би р-н  кирпичный, 2018 г.п.   7 из 9   \n",
       "4  Караганда, Казыбек би р-н  кирпичный, 2017 г.п.  5 из 12   \n",
       "\n",
       "                                   Area                Owner         Phone  \n",
       "0                                 46 м²   ИП \"Чистая жизнь \"  +77052549032  \n",
       "1  220 м², жилая — 96 м², кухня — 13 м²                Arman  +77015387594  \n",
       "2                   52 м², кухня — 8 м²      Золотой квадрат  +77773047191  \n",
       "3                                 88 м²  Хозяин недвижимости  +77013423962  \n",
       "4                                100 м²  Хозяин недвижимости  +77018000555  "
      ]
     },
     "execution_count": 86,
     "metadata": {},
     "output_type": "execute_result"
    }
   ],
   "source": [
    "df.head()"
   ]
  },
  {
   "cell_type": "code",
   "execution_count": 87,
   "metadata": {},
   "outputs": [
    {
     "data": {
      "text/plain": [
       "0     14000000.0\n",
       "1     55000000.0\n",
       "2     13300000.0\n",
       "3     42800000.0\n",
       "4     37000000.0\n",
       "         ...    \n",
       "92     8700000.0\n",
       "93    20515500.0\n",
       "94    15275000.0\n",
       "95    10011000.0\n",
       "96    28500000.0\n",
       "Name: Price, Length: 97, dtype: float64"
      ]
     },
     "execution_count": 87,
     "metadata": {},
     "output_type": "execute_result"
    }
   ],
   "source": [
    "df['Price']=df['Price'].str.replace(' ', '')\n",
    "df['Price']=df['Price'].astype(float)\n",
    "df['Price']"
   ]
  },
  {
   "cell_type": "code",
   "execution_count": 95,
   "metadata": {},
   "outputs": [
    {
     "data": {
      "image/png": "[encoded data removed]",
      "text/plain": [
       "<Figure size 432x288 with 1 Axes>"
      ]
     },
     "metadata": {
      "needs_background": "light"
     },
     "output_type": "display_data"
    }
   ],
   "source": [
    "import seaborn as sns\n",
    "ax=sns.histplot(x=df['Price'])\n",
    "plt.show()"
   ]
  },
  {
   "cell_type": "code",
   "execution_count": 67,
   "metadata": {},
   "outputs": [
    {
     "name": "stdout",
     "output_type": "stream",
     "text": [
      "The mean price is 21109869.6185567\n",
      "The standard deviation of price is 10899409.896295058\n"
     ]
    }
   ],
   "source": [
    "prices=df['Price']\n",
    "print('The mean price is',np.mean(df['Price']))\n",
    "print('The standard deviation of price is',np.std(df['Price']))"
   ]
  },
  {
   "cell_type": "code",
   "execution_count": 99,
   "metadata": {},
   "outputs": [],
   "source": [
    "number_of_apartments=[]\n",
    "for i in range (0,len(df['Name'])):\n",
    "    number_of_apartments.append(df['Name'][i][0])"
   ]
  },
  {
   "cell_type": "code",
   "execution_count": 104,
   "metadata": {},
   "outputs": [],
   "source": [
    "for i in range(0, len(number_of_apartments)): \n",
    "    number_of_apartments[i] = int(number_of_apartments[i]) "
   ]
  },
  {
   "cell_type": "code",
   "execution_count": 111,
   "metadata": {},
   "outputs": [
    {
     "name": "stdout",
     "output_type": "stream",
     "text": [
      "The mean number of rooms is 2.0\n"
     ]
    }
   ],
   "source": [
    "print('The mean number of rooms is',round(np.mean(number_of_apartments),0))"
   ]
  },
  {
   "cell_type": "code",
   "execution_count": 108,
   "metadata": {},
   "outputs": [
    {
     "data": {
      "image/png": "[encoded data removed]",
      "text/plain": [
       "<Figure size 432x288 with 1 Axes>"
      ]
     },
     "metadata": {
      "needs_background": "light"
     },
     "output_type": "display_data"
    }
   ],
   "source": [
    "import seaborn as sns\n",
    "ax=sns.histplot(x=number_of_apartments)\n",
    "plt.show()"
   ]
  },
  {
   "cell_type": "code",
   "execution_count": 140,
   "metadata": {},
   "outputs": [],
   "source": [
    "areas=df['Area']\n",
    "area=[]\n",
    "for i in range(0,len(areas)):\n",
    "    area.append(areas[i].split()[0])"
   ]
  },
  {
   "cell_type": "code",
   "execution_count": 141,
   "metadata": {},
   "outputs": [],
   "source": [
    "for i in range(0,len(area)):\n",
    "    if area[i]==\"черновая\":\n",
    "        area[i]=None\n",
    "    else:\n",
    "        area[i]=float(area[i])"
   ]
  },
  {
   "cell_type": "code",
   "execution_count": 142,
   "metadata": {},
   "outputs": [
    {
     "name": "stdout",
     "output_type": "stream",
     "text": [
      "The mean area is 80.0\n"
     ]
    }
   ],
   "source": [
    "print('The mean area is',np.mean(area[i]))"
   ]
  },
  {
   "cell_type": "code",
   "execution_count": 143,
   "metadata": {},
   "outputs": [
    {
     "data": {
      "image/png": "[encoded data removed]",
      "text/plain": [
       "<Figure size 360x360 with 1 Axes>"
      ]
     },
     "metadata": {
      "needs_background": "light"
     },
     "output_type": "display_data"
    }
   ],
   "source": [
    "ax=sns.displot(x=area)\n",
    "plt.show()"
   ]
  },
  {
   "cell_type": "code",
   "execution_count": null,
   "metadata": {},
   "outputs": [],
   "source": []
  }
 ],
 "metadata": {
  "kernelspec": {
   "display_name": "Python 3",
   "language": "python",
   "name": "python3"
  },
  "language_info": {
   "codemirror_mode": {
    "name": "ipython",
    "version": 3
   },
   "file_extension": ".py",
   "mimetype": "text/x-python",
   "name": "python",
   "nbconvert_exporter": "python",
   "pygments_lexer": "ipython3",
   "version": "3.8.5"
  }
 },
 "nbformat": 4,
 "nbformat_minor": 4
}
